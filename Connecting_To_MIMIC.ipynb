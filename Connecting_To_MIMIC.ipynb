{
  "nbformat": 4,
  "nbformat_minor": 0,
  "metadata": {
    "colab": {
      "provenance": [],
      "toc_visible": true,
      "authorship_tag": "ABX9TyP3eQREnqlT2p+l4K5YyrnX",
      "include_colab_link": true
    },
    "kernelspec": {
      "name": "python3",
      "display_name": "Python 3"
    },
    "language_info": {
      "name": "python"
    }
  },
  "cells": [
    {
      "cell_type": "markdown",
      "metadata": {
        "id": "view-in-github",
        "colab_type": "text"
      },
      "source": [
        "<a href=\"https://colab.research.google.com/github/GrigorijSchleifer/Hyperoxia-2020/blob/main/Connecting_To_MIMIC.ipynb\" target=\"_parent\"><img src=\"https://colab.research.google.com/assets/colab-badge.svg\" alt=\"Open In Colab\"/></a>"
      ]
    },
    {
      "cell_type": "code",
      "execution_count": null,
      "metadata": {
        "id": "T1Ncd-Pyyj2q"
      },
      "outputs": [],
      "source": [
        "# downgrade pandas - the pymatch package requires an older version of pandas\n",
        "# you can ignore the warnings, happily none of them break!\n",
        "!pip install pandas==0.22 --upgrade"
      ]
    },
    {
      "cell_type": "code",
      "source": [
        "from google.colab import drive\n",
        "drive.mount('/content/drive')"
      ],
      "metadata": {
        "colab": {
          "base_uri": "https://localhost:8080/"
        },
        "id": "yxlLDvOWPtUs",
        "outputId": "41f9b6fb-f5ff-4dbc-b471-30517211a85f"
      },
      "execution_count": 25,
      "outputs": [
        {
          "output_type": "stream",
          "name": "stdout",
          "text": [
            "Drive already mounted at /content/drive; to attempt to forcibly remount, call drive.mount(\"/content/drive\", force_remount=True).\n"
          ]
        }
      ]
    },
    {
      "cell_type": "code",
      "source": [
        "# Import libraries\n",
        "import os\n",
        "import numpy as np\n",
        "import pandas as pd\n",
        "import matplotlib.pyplot as plt\n",
        "\n",
        "# below is used to print out pretty pandas dataframes\n",
        "from IPython.display import display, HTML\n",
        "\n",
        "%matplotlib inline\n",
        "\n",
        "\n",
        "plt.style.use('ggplot')\n",
        "plt.rcParams.update({'font.size': 20, 'figure.figsize': [16, 12]})\n",
        "\n",
        "# we will load data from tables generated on BigQuery\n",
        "from google.colab import auth\n",
        "from google.cloud import bigquery\n",
        "\n",
        "# Note that this should be the project for the datathon work,\n",
        "# not the physionet-data project which is for data hosting.\n",
        "project_id = 'physionet-data-304720'\n",
        "os.environ['GOOGLE_CLOUD_PROJECT'] = project_id\n",
        "\n",
        "# Read data from BigQuery into pandas dataframes.\n",
        "def run_query(query, project_id=project_id):\n",
        "  return pd.io.gbq.read_gbq(\n",
        "      query,\n",
        "      project_id=project_id,\n",
        "      dialect='standard')"
      ],
      "metadata": {
        "id": "R6pZCPoMyqme"
      },
      "execution_count": null,
      "outputs": []
    },
    {
      "cell_type": "code",
      "source": [
        "auth.authenticate_user()"
      ],
      "metadata": {
        "id": "Cr37BzZEy1a5"
      },
      "execution_count": 20,
      "outputs": []
    },
    {
      "cell_type": "code",
      "source": [
        "query = \"\"\" SELECT HADM_ID FROM `physionet-data.mimiciii_clinical.admissions` LIMIT 1000 \"\"\"\n",
        "\n",
        "df = run_query(query)\n",
        "print(df)"
      ],
      "metadata": {
        "colab": {
          "base_uri": "https://localhost:8080/"
        },
        "id": "afsYFJxszKbg",
        "outputId": "9726aa1f-e226-4d73-a71d-3dd42ad6c3d0"
      },
      "execution_count": null,
      "outputs": [
        {
          "output_type": "stream",
          "name": "stdout",
          "text": [
            "     HADM_ID\n",
            "0     134067\n",
            "1     109129\n",
            "2     121510\n",
            "3     106469\n",
            "4     133732\n",
            "..       ...\n",
            "995   155130\n",
            "996   192427\n",
            "997   167007\n",
            "998   175116\n",
            "999   184202\n",
            "\n",
            "[1000 rows x 1 columns]\n"
          ]
        }
      ]
    },
    {
      "cell_type": "code",
      "source": [
        "!pip list"
      ],
      "metadata": {
        "id": "AZ_pyb_4zklK"
      },
      "execution_count": null,
      "outputs": []
    },
    {
      "cell_type": "code",
      "source": [],
      "metadata": {
        "id": "xdAIvmJgQcMM"
      },
      "execution_count": null,
      "outputs": []
    }
  ]
}